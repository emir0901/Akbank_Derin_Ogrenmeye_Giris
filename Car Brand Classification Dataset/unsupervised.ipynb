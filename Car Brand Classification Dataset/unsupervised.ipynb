{
  "cells": [
    {
      "cell_type": "markdown",
      "metadata": {},
      "source": [
        "# Unsupervised (Denetimsiz) Çalışma\n",
        "\n",
        "Bu defter, denetimsiz denemeler (örn. öznitelik çıkarımı, kümeleme) için şablondur.\n",
        "tam"
      ]
    }
  ],
  "metadata": {
    "language_info": {
      "name": "python"
    }
  },
  "nbformat": 4,
  "nbformat_minor": 2
}
