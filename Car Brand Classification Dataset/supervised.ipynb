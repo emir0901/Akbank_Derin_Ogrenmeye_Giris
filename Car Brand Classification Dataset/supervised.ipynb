{
  "cells": [
    {
      "cell_type": "markdown",
      "metadata": {},
      "source": [
        "# Supervised (Denetimli) Çalışma\n",
        "\n",
        "Bu defter, sınıflandırıcı eğitimini ve sonuçların yorumlanmasını kısaca özetlemek için şablondur.\n"
      ]
    },
    {
      "cell_type": "code",
      "execution_count": null,
      "metadata": {},
      "outputs": [],
      "source": [
        "!python train_classifier.py\n"
      ]
    },
    {
      "cell_type": "markdown",
      "metadata": {},
      "source": [
        "## Sonuçlar\n",
        "- Doğrulama doğruluğu: ...\n",
        "- Test doğruluğu: ...\n",
        "\n",
        "Yorumlarınızı buraya ekleyin.\n"
      ]
    }
  ],
  "metadata": {
    "language_info": {
      "name": "python"
    }
  },
  "nbformat": 4,
  "nbformat_minor": 2
}
